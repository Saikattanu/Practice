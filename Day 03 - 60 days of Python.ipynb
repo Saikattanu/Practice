{
 "cells": [
  {
   "cell_type": "markdown",
   "id": "cdfa3448",
   "metadata": {},
   "source": [
    "# input function"
   ]
  },
  {
   "cell_type": "code",
   "execution_count": 1,
   "id": "0d21a075",
   "metadata": {},
   "outputs": [],
   "source": [
    "data = 'data science fun'"
   ]
  },
  {
   "cell_type": "code",
   "execution_count": 2,
   "id": "d4796bad",
   "metadata": {},
   "outputs": [
    {
     "data": {
      "text/plain": [
       "str"
      ]
     },
     "execution_count": 2,
     "metadata": {},
     "output_type": "execute_result"
    }
   ],
   "source": [
    "type(data)"
   ]
  },
  {
   "cell_type": "code",
   "execution_count": 3,
   "id": "ce91fa64",
   "metadata": {},
   "outputs": [
    {
     "name": "stdout",
     "output_type": "stream",
     "text": [
      "data science fun!\n"
     ]
    }
   ],
   "source": [
    "data = input()"
   ]
  },
  {
   "cell_type": "code",
   "execution_count": 4,
   "id": "321db9b6",
   "metadata": {},
   "outputs": [
    {
     "data": {
      "text/plain": [
       "'data science fun!'"
      ]
     },
     "execution_count": 4,
     "metadata": {},
     "output_type": "execute_result"
    }
   ],
   "source": [
    "data"
   ]
  },
  {
   "cell_type": "code",
   "execution_count": 5,
   "id": "6111ad13",
   "metadata": {},
   "outputs": [
    {
     "data": {
      "text/plain": [
       "str"
      ]
     },
     "execution_count": 5,
     "metadata": {},
     "output_type": "execute_result"
    }
   ],
   "source": [
    "type(data)"
   ]
  },
  {
   "cell_type": "code",
   "execution_count": 7,
   "id": "0e2a1394",
   "metadata": {},
   "outputs": [
    {
     "name": "stdout",
     "output_type": "stream",
     "text": [
      "10\n",
      "20\n"
     ]
    }
   ],
   "source": [
    "x = input()\n",
    "y = input()"
   ]
  },
  {
   "cell_type": "code",
   "execution_count": 8,
   "id": "aad73adb",
   "metadata": {},
   "outputs": [
    {
     "data": {
      "text/plain": [
       "'1020'"
      ]
     },
     "execution_count": 8,
     "metadata": {},
     "output_type": "execute_result"
    }
   ],
   "source": [
    "x+y"
   ]
  },
  {
   "cell_type": "code",
   "execution_count": 9,
   "id": "22978533",
   "metadata": {},
   "outputs": [
    {
     "data": {
      "text/plain": [
       "str"
      ]
     },
     "execution_count": 9,
     "metadata": {},
     "output_type": "execute_result"
    }
   ],
   "source": [
    "type(x)"
   ]
  },
  {
   "cell_type": "code",
   "execution_count": 10,
   "id": "bc4ecb99",
   "metadata": {},
   "outputs": [
    {
     "data": {
      "text/plain": [
       "str"
      ]
     },
     "execution_count": 10,
     "metadata": {},
     "output_type": "execute_result"
    }
   ],
   "source": [
    "type(y)"
   ]
  },
  {
   "cell_type": "code",
   "execution_count": 11,
   "id": "1162cdfa",
   "metadata": {},
   "outputs": [],
   "source": [
    "x = int(x)\n",
    "y = int(y)"
   ]
  },
  {
   "cell_type": "code",
   "execution_count": 12,
   "id": "8a233c7e",
   "metadata": {},
   "outputs": [
    {
     "data": {
      "text/plain": [
       "30"
      ]
     },
     "execution_count": 12,
     "metadata": {},
     "output_type": "execute_result"
    }
   ],
   "source": [
    "x+y"
   ]
  },
  {
   "cell_type": "code",
   "execution_count": 13,
   "id": "c5b4579b",
   "metadata": {},
   "outputs": [
    {
     "data": {
      "text/plain": [
       "-10"
      ]
     },
     "execution_count": 13,
     "metadata": {},
     "output_type": "execute_result"
    }
   ],
   "source": [
    "x-y"
   ]
  },
  {
   "cell_type": "code",
   "execution_count": 14,
   "id": "a6544329",
   "metadata": {},
   "outputs": [
    {
     "data": {
      "text/plain": [
       "10"
      ]
     },
     "execution_count": 14,
     "metadata": {},
     "output_type": "execute_result"
    }
   ],
   "source": [
    "y-x"
   ]
  },
  {
   "cell_type": "code",
   "execution_count": 15,
   "id": "903d1e3a",
   "metadata": {},
   "outputs": [
    {
     "data": {
      "text/plain": [
       "2.0"
      ]
     },
     "execution_count": 15,
     "metadata": {},
     "output_type": "execute_result"
    }
   ],
   "source": [
    "y/x"
   ]
  },
  {
   "cell_type": "code",
   "execution_count": 16,
   "id": "473a2819",
   "metadata": {},
   "outputs": [
    {
     "data": {
      "text/plain": [
       "int"
      ]
     },
     "execution_count": 16,
     "metadata": {},
     "output_type": "execute_result"
    }
   ],
   "source": [
    "type(x)"
   ]
  },
  {
   "cell_type": "code",
   "execution_count": 19,
   "id": "fcc3a4ab",
   "metadata": {},
   "outputs": [
    {
     "name": "stdout",
     "output_type": "stream",
     "text": [
      "Enter your 1st num: 200\n"
     ]
    }
   ],
   "source": [
    "x = int(input('Enter your 1st num: '))"
   ]
  },
  {
   "cell_type": "code",
   "execution_count": 20,
   "id": "96171918",
   "metadata": {},
   "outputs": [
    {
     "data": {
      "text/plain": [
       "200"
      ]
     },
     "execution_count": 20,
     "metadata": {},
     "output_type": "execute_result"
    }
   ],
   "source": [
    "x"
   ]
  },
  {
   "cell_type": "code",
   "execution_count": 21,
   "id": "7089ebb2",
   "metadata": {},
   "outputs": [
    {
     "name": "stdout",
     "output_type": "stream",
     "text": [
      "Enter your 2nd num: 10.5\n"
     ]
    }
   ],
   "source": [
    "y = float(input('Enter your 2nd num: '))"
   ]
  },
  {
   "cell_type": "code",
   "execution_count": 22,
   "id": "d23984f4",
   "metadata": {},
   "outputs": [
    {
     "data": {
      "text/plain": [
       "210.5"
      ]
     },
     "execution_count": 22,
     "metadata": {},
     "output_type": "execute_result"
    }
   ],
   "source": [
    "x+y"
   ]
  },
  {
   "cell_type": "code",
   "execution_count": 23,
   "id": "e50b53e2",
   "metadata": {},
   "outputs": [],
   "source": [
    "data = '60 days of python'"
   ]
  },
  {
   "cell_type": "code",
   "execution_count": 24,
   "id": "0c9cca46",
   "metadata": {},
   "outputs": [
    {
     "data": {
      "text/plain": [
       "str"
      ]
     },
     "execution_count": 24,
     "metadata": {},
     "output_type": "execute_result"
    }
   ],
   "source": [
    "type(data)"
   ]
  },
  {
   "cell_type": "code",
   "execution_count": 25,
   "id": "397625b8",
   "metadata": {},
   "outputs": [
    {
     "data": {
      "text/plain": [
       "17"
      ]
     },
     "execution_count": 25,
     "metadata": {},
     "output_type": "execute_result"
    }
   ],
   "source": [
    "len(data)"
   ]
  },
  {
   "cell_type": "code",
   "execution_count": 26,
   "id": "65bb3b24",
   "metadata": {},
   "outputs": [
    {
     "data": {
      "text/plain": [
       "66"
      ]
     },
     "execution_count": 26,
     "metadata": {},
     "output_type": "execute_result"
    }
   ],
   "source": [
    "import sys\n",
    "sys.getsizeof(data)"
   ]
  },
  {
   "cell_type": "code",
   "execution_count": 27,
   "id": "aabf41ba",
   "metadata": {},
   "outputs": [
    {
     "data": {
      "text/plain": [
       "1"
      ]
     },
     "execution_count": 27,
     "metadata": {},
     "output_type": "execute_result"
    }
   ],
   "source": [
    "data.count('python')"
   ]
  },
  {
   "cell_type": "code",
   "execution_count": 28,
   "id": "2b697e76",
   "metadata": {},
   "outputs": [
    {
     "data": {
      "text/plain": [
       "1"
      ]
     },
     "execution_count": 28,
     "metadata": {},
     "output_type": "execute_result"
    }
   ],
   "source": [
    "data.count('of')"
   ]
  },
  {
   "cell_type": "code",
   "execution_count": 31,
   "id": "54eb204f",
   "metadata": {},
   "outputs": [],
   "source": [
    "sub = 'days of'"
   ]
  },
  {
   "cell_type": "code",
   "execution_count": 32,
   "id": "811eeba2",
   "metadata": {},
   "outputs": [
    {
     "data": {
      "text/plain": [
       "1"
      ]
     },
     "execution_count": 32,
     "metadata": {},
     "output_type": "execute_result"
    }
   ],
   "source": [
    "data.count(sub)"
   ]
  },
  {
   "cell_type": "markdown",
   "id": "20a215d2",
   "metadata": {},
   "source": [
    "# Python String Methods"
   ]
  },
  {
   "cell_type": "code",
   "execution_count": 34,
   "id": "fd0a611c",
   "metadata": {},
   "outputs": [
    {
     "data": {
      "text/plain": [
       "8"
      ]
     },
     "execution_count": 34,
     "metadata": {},
     "output_type": "execute_result"
    }
   ],
   "source": [
    "data ='60 days of python'\n",
    "data.find('of')"
   ]
  },
  {
   "cell_type": "code",
   "execution_count": 35,
   "id": "e2a36c28",
   "metadata": {},
   "outputs": [
    {
     "data": {
      "text/plain": [
       "9"
      ]
     },
     "execution_count": 35,
     "metadata": {},
     "output_type": "execute_result"
    }
   ],
   "source": [
    "data.find('f') #find value from string"
   ]
  },
  {
   "cell_type": "code",
   "execution_count": 37,
   "id": "bb6d451f",
   "metadata": {},
   "outputs": [
    {
     "data": {
      "text/plain": [
       "-1"
      ]
     },
     "execution_count": 37,
     "metadata": {},
     "output_type": "execute_result"
    }
   ],
   "source": [
    "data.find('y',6,10) #not exist"
   ]
  },
  {
   "cell_type": "code",
   "execution_count": 38,
   "id": "33f42d30",
   "metadata": {},
   "outputs": [
    {
     "data": {
      "text/plain": [
       "12"
      ]
     },
     "execution_count": 38,
     "metadata": {},
     "output_type": "execute_result"
    }
   ],
   "source": [
    "data.find('y',6,14)"
   ]
  },
  {
   "cell_type": "code",
   "execution_count": 39,
   "id": "aace758e",
   "metadata": {},
   "outputs": [
    {
     "data": {
      "text/plain": [
       "5"
      ]
     },
     "execution_count": 39,
     "metadata": {},
     "output_type": "execute_result"
    }
   ],
   "source": [
    "data.index('y')"
   ]
  },
  {
   "cell_type": "code",
   "execution_count": 41,
   "id": "702b11f3",
   "metadata": {},
   "outputs": [
    {
     "data": {
      "text/plain": [
       "12"
      ]
     },
     "execution_count": 41,
     "metadata": {},
     "output_type": "execute_result"
    }
   ],
   "source": [
    "data.find('y',6,13) #show error"
   ]
  },
  {
   "cell_type": "code",
   "execution_count": 43,
   "id": "392ab662",
   "metadata": {},
   "outputs": [
    {
     "data": {
      "text/plain": [
       "'60 days of python'"
      ]
     },
     "execution_count": 43,
     "metadata": {},
     "output_type": "execute_result"
    }
   ],
   "source": [
    "data.lower() #convert all char into lower case"
   ]
  },
  {
   "cell_type": "code",
   "execution_count": 44,
   "id": "f032c3f6",
   "metadata": {},
   "outputs": [
    {
     "data": {
      "text/plain": [
       "'60 DAYS OF PYTHON'"
      ]
     },
     "execution_count": 44,
     "metadata": {},
     "output_type": "execute_result"
    }
   ],
   "source": [
    "data.upper() #convert all char into upper case"
   ]
  },
  {
   "cell_type": "code",
   "execution_count": 45,
   "id": "84a3c0e9",
   "metadata": {},
   "outputs": [
    {
     "data": {
      "text/plain": [
       "'60 days of python'"
      ]
     },
     "execution_count": 45,
     "metadata": {},
     "output_type": "execute_result"
    }
   ],
   "source": [
    "data.casefold() #lower"
   ]
  },
  {
   "cell_type": "code",
   "execution_count": 51,
   "id": "f306087d",
   "metadata": {},
   "outputs": [],
   "source": [
    "x = 'data SCIENCE is Fun'"
   ]
  },
  {
   "cell_type": "code",
   "execution_count": 52,
   "id": "e1e8de23",
   "metadata": {},
   "outputs": [
    {
     "data": {
      "text/plain": [
       "'Data science is fun'"
      ]
     },
     "execution_count": 52,
     "metadata": {},
     "output_type": "execute_result"
    }
   ],
   "source": [
    "x.capitalize() #cover only first char into upper case"
   ]
  },
  {
   "cell_type": "code",
   "execution_count": 53,
   "id": "d0403fd1",
   "metadata": {},
   "outputs": [
    {
     "data": {
      "text/plain": [
       "'DATA science IS fUN'"
      ]
     },
     "execution_count": 53,
     "metadata": {},
     "output_type": "execute_result"
    }
   ],
   "source": [
    "x.swapcase()"
   ]
  },
  {
   "cell_type": "code",
   "execution_count": 54,
   "id": "ea0de7f5",
   "metadata": {},
   "outputs": [
    {
     "data": {
      "text/plain": [
       "'Data Science Is Fun'"
      ]
     },
     "execution_count": 54,
     "metadata": {},
     "output_type": "execute_result"
    }
   ],
   "source": [
    "x.title()"
   ]
  },
  {
   "cell_type": "code",
   "execution_count": 55,
   "id": "75d32539",
   "metadata": {},
   "outputs": [
    {
     "data": {
      "text/plain": [
       "False"
      ]
     },
     "execution_count": 55,
     "metadata": {},
     "output_type": "execute_result"
    }
   ],
   "source": [
    "x.islower()"
   ]
  },
  {
   "cell_type": "code",
   "execution_count": 56,
   "id": "b9c0744f",
   "metadata": {},
   "outputs": [
    {
     "data": {
      "text/plain": [
       "'DATA SCIENCE IS FUN'"
      ]
     },
     "execution_count": 56,
     "metadata": {},
     "output_type": "execute_result"
    }
   ],
   "source": [
    "x.upper()"
   ]
  },
  {
   "cell_type": "code",
   "execution_count": 57,
   "id": "53192284",
   "metadata": {},
   "outputs": [
    {
     "data": {
      "text/plain": [
       "False"
      ]
     },
     "execution_count": 57,
     "metadata": {},
     "output_type": "execute_result"
    }
   ],
   "source": [
    "x.isupper()"
   ]
  },
  {
   "cell_type": "code",
   "execution_count": 58,
   "id": "c4bdef50",
   "metadata": {},
   "outputs": [
    {
     "data": {
      "text/plain": [
       "False"
      ]
     },
     "execution_count": 58,
     "metadata": {},
     "output_type": "execute_result"
    }
   ],
   "source": [
    "x.isdigit()"
   ]
  },
  {
   "cell_type": "code",
   "execution_count": 59,
   "id": "393bd508",
   "metadata": {},
   "outputs": [
    {
     "data": {
      "text/plain": [
       "b'data SCIENCE is Fun'"
      ]
     },
     "execution_count": 59,
     "metadata": {},
     "output_type": "execute_result"
    }
   ],
   "source": [
    "x.encode()"
   ]
  },
  {
   "cell_type": "code",
   "execution_count": 60,
   "id": "832d0504",
   "metadata": {},
   "outputs": [
    {
     "data": {
      "text/plain": [
       "bytes"
      ]
     },
     "execution_count": 60,
     "metadata": {},
     "output_type": "execute_result"
    }
   ],
   "source": [
    "type(x.encode())"
   ]
  },
  {
   "cell_type": "code",
   "execution_count": 61,
   "id": "941730da",
   "metadata": {},
   "outputs": [
    {
     "data": {
      "text/plain": [
       "'data SCIENCE is Fun'"
      ]
     },
     "execution_count": 61,
     "metadata": {},
     "output_type": "execute_result"
    }
   ],
   "source": [
    "x"
   ]
  },
  {
   "cell_type": "code",
   "execution_count": 62,
   "id": "d5a3f951",
   "metadata": {},
   "outputs": [
    {
     "data": {
      "text/plain": [
       "['data', 'SCIENCE', 'is', 'Fun']"
      ]
     },
     "execution_count": 62,
     "metadata": {},
     "output_type": "execute_result"
    }
   ],
   "source": [
    "x.split()"
   ]
  },
  {
   "cell_type": "code",
   "execution_count": 63,
   "id": "f60d2adb",
   "metadata": {},
   "outputs": [
    {
     "data": {
      "text/plain": [
       "'data'"
      ]
     },
     "execution_count": 63,
     "metadata": {},
     "output_type": "execute_result"
    }
   ],
   "source": [
    "x.split()[0]"
   ]
  },
  {
   "cell_type": "code",
   "execution_count": 64,
   "id": "d086a080",
   "metadata": {},
   "outputs": [
    {
     "data": {
      "text/plain": [
       "'SCIENCE'"
      ]
     },
     "execution_count": 64,
     "metadata": {},
     "output_type": "execute_result"
    }
   ],
   "source": [
    "x.split()[1]"
   ]
  },
  {
   "cell_type": "code",
   "execution_count": 68,
   "id": "9715e178",
   "metadata": {},
   "outputs": [
    {
     "data": {
      "text/plain": [
       "'                                        data SCIENCE is Fun                                         '"
      ]
     },
     "execution_count": 68,
     "metadata": {},
     "output_type": "execute_result"
    }
   ],
   "source": [
    "x.center(100)"
   ]
  },
  {
   "cell_type": "code",
   "execution_count": 70,
   "id": "69d9a13e",
   "metadata": {},
   "outputs": [
    {
     "data": {
      "text/plain": [
       "'AI SCIENCE is Fun'"
      ]
     },
     "execution_count": 70,
     "metadata": {},
     "output_type": "execute_result"
    }
   ],
   "source": [
    "x.replace('data','AI')"
   ]
  },
  {
   "cell_type": "code",
   "execution_count": 72,
   "id": "0c516fcd",
   "metadata": {},
   "outputs": [
    {
     "name": "stdout",
     "output_type": "stream",
     "text": [
      "I have 1000 taka\n"
     ]
    }
   ],
   "source": [
    "x = 10\n",
    "y = 100\n",
    "z= x*y\n",
    "\n",
    "print('I have',z,'taka')"
   ]
  },
  {
   "cell_type": "code",
   "execution_count": 73,
   "id": "f6dd94c7",
   "metadata": {},
   "outputs": [
    {
     "name": "stdout",
     "output_type": "stream",
     "text": [
      "I have 1000 taka\n"
     ]
    }
   ],
   "source": [
    "print('I have {} taka'.format(z))"
   ]
  }
 ],
 "metadata": {
  "kernelspec": {
   "display_name": "Python 3 (ipykernel)",
   "language": "python",
   "name": "python3"
  },
  "language_info": {
   "codemirror_mode": {
    "name": "ipython",
    "version": 3
   },
   "file_extension": ".py",
   "mimetype": "text/x-python",
   "name": "python",
   "nbconvert_exporter": "python",
   "pygments_lexer": "ipython3",
   "version": "3.9.16"
  }
 },
 "nbformat": 4,
 "nbformat_minor": 5
}
